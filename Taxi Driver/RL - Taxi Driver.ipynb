{
  "nbformat": 4,
  "nbformat_minor": 0,
  "metadata": {
    "colab": {
      "name": "Tema_2_Skel.ipynb",
      "provenance": [],
      "collapsed_sections": [
        "MUqcqknZ8ZzX",
        "rsezxQc6Cw2q",
        "koOr44nVC2W8",
        "KvwQPddsXej2",
        "uvilu_zqD4LI",
        "vuQAPbb4EvCC",
        "Ya53mUXoyMki",
        "IG0vWU5W2y3L",
        "afpcVDWGJpvE",
        "n5PFllQkd2sY",
        "ZmxRA5T9LN96",
        "Yx3EMZteLTeZ",
        "_qnQqhqTTS_9",
        "hGnZrGZKTWFl",
        "lEAAqS9TWLa1",
        "tfnxqtwUWVUU",
        "AMgdY8oeWXzM",
        "xNXDmty6mZIS",
        "gX30pQNmmcEa",
        "I5HZuDILmfGC",
        "Rc5WElfVoWXM",
        "4DXhMwcXoWXv",
        "GLV1t6tmL-qc",
        "lWnABGc9PLNN",
        "ypYpYeEyO0iy",
        "sDAjs7v6N-g7",
        "25S3K7npN9aD"
      ]
    },
    "kernelspec": {
      "display_name": "Python 3",
      "name": "python3"
    },
    "language_info": {
      "name": "python"
    }
  },
  "cells": [
    {
      "cell_type": "markdown",
      "metadata": {
        "id": "view-in-github"
      },
      "source": [
        "<a href=\"https://colab.research.google.com/github/cs-pub-ro/ML/blob/master/homework/2020-2021/hw2/Tema_2_Skel.ipynb\" target=\"_parent\"><img src=\"https://colab.research.google.com/assets/colab-badge.svg\" alt=\"Open In Colab\"/></a>"
      ]
    },
    {
      "cell_type": "markdown",
      "metadata": {
        "id": "zLbq2kmY8Pg7"
      },
      "source": [
        "# Tema 2 - Taxi Driver\n",
        "\n",
        "### Autori: \n",
        "* George Muraru\n"
      ]
    },
    {
      "cell_type": "markdown",
      "metadata": {
        "id": "MUqcqknZ8ZzX"
      },
      "source": [
        "## 2. Scopul temei"
      ]
    },
    {
      "cell_type": "markdown",
      "metadata": {
        "id": "SXJjFpkZ8dM0"
      },
      "source": [
        "Tema are ca scop folosirea unor tehnici simple de reinforcement learning pentru a realiza un bot care \"știe\" să realizeze o sarcină simplă: să transporte o persoană dintr-o locație în alta.\n",
        "\n",
        "Mai multe detalii despre joc se pot găsi [aici](https://github.com/openai/gym/blob/master/gym/envs/toy_text/taxi.py) și [aici](https://gym.openai.com/envs/Taxi-v3/)."
      ]
    },
    {
      "cell_type": "markdown",
      "metadata": {
        "id": "F8nGcW70-CO6"
      },
      "source": [
        "## 3. Workspace Setup"
      ]
    },
    {
      "cell_type": "markdown",
      "metadata": {
        "id": "KoBV0vEQ0vhu"
      },
      "source": [
        "Pentru environmentul de joc, vom folosi \"Gym\" - un tool oferit de OpenAI pentru Reinforcement Learning.\n",
        "\n",
        "Mai multe detalii puteți găsi [aici](https://gym.openai.com/)."
      ]
    },
    {
      "cell_type": "markdown",
      "metadata": {
        "id": "h4HsagGt-zvI"
      },
      "source": [
        "### Dependețe"
      ]
    },
    {
      "cell_type": "code",
      "metadata": {
        "id": "ILG0Xlj3-1yh"
      },
      "source": [
        "!pip install -U gym"
      ],
      "execution_count": null,
      "outputs": []
    },
    {
      "cell_type": "markdown",
      "metadata": {
        "id": "rsezxQc6Cw2q"
      },
      "source": [
        "### Import biblioteci"
      ]
    },
    {
      "cell_type": "code",
      "metadata": {
        "id": "iRBWl2gNCz0s"
      },
      "source": [
        "import gym\n",
        "import seaborn as sns\n",
        "import numpy as np\n",
        "\n",
        "# Set seaborn plotting type\n",
        "sns.set()\n",
        "\n",
        "import matplotlib.pyplot as plt2\n",
        "import random\n",
        "import time\n",
        "from IPython.display import clear_output"
      ],
      "execution_count": null,
      "outputs": []
    },
    {
      "cell_type": "markdown",
      "metadata": {
        "id": "koOr44nVC2W8"
      },
      "source": [
        "### Setup Environment pentru Taxi"
      ]
    },
    {
      "cell_type": "code",
      "metadata": {
        "id": "6QqIehW-C6jt"
      },
      "source": [
        "env = gym.make('Taxi-v3')"
      ],
      "execution_count": null,
      "outputs": []
    },
    {
      "cell_type": "markdown",
      "metadata": {
        "id": "hIrkE5md-DwS"
      },
      "source": [
        "### Parametrii"
      ]
    },
    {
      "cell_type": "code",
      "metadata": {
        "id": "Eq_2kBEe-I-s"
      },
      "source": [
        "LOG_INTERVAL = 100 #@param {type: \"slider\", min: 0, max: 1000, step: 10}\n",
        "NR_EPISODES = 10000 #@param {type: \"slider\", min: 5, max: 10000, step: 5}\n",
        "\n"
      ],
      "execution_count": null,
      "outputs": []
    },
    {
      "cell_type": "markdown",
      "metadata": {
        "id": "m7CBF_u4Ifxf"
      },
      "source": [
        "### Hyperparametrii"
      ]
    },
    {
      "cell_type": "code",
      "metadata": {
        "id": "w5soyOMbIg-I"
      },
      "source": [
        "ALPHA = 0.1 #@param {type: \"slider\", min: 0.0, max: 1.0, step: 0.1}\n",
        "GAMMA = 0.9 #@param {type: \"slider\", min: 0.0, max: 1.0, step: 0.1}\n",
        "EPSILON = 0.9 #@param {type: \"slider\", min: 0.0, max: 1.0, step: 0.1}\n",
        "\n",
        "# For BONUS\n",
        "\n",
        "DECAY_EPS = 0.95 #@param {type: \"slider\", min: 0.0, max: 1.0, step: 0.05}\n",
        "DECAY_EPS_EPISODES = 100 #@param {type: \"slider\", min: 0, max: 10000, step: 5}"
      ],
      "execution_count": null,
      "outputs": []
    },
    {
      "cell_type": "markdown",
      "metadata": {
        "id": "KvwQPddsXej2"
      },
      "source": [
        "### Rezultate obtinute prin modificare parametrilor"
      ]
    },
    {
      "cell_type": "code",
      "metadata": {
        "id": "m1MsZNVQXoNi"
      },
      "source": [
        "eps_best_QL = {}\n",
        "gamma_best_QL = {}\n",
        "alpha_best_QL = {}\n",
        "\n",
        "eps_avg_QL = {}\n",
        "gamma_avg_QL = {}\n",
        "alpha_avg_QL = {}\n",
        "\n",
        "eps_best_SARSA = {}\n",
        "gamma_best_SARSA = {}\n",
        "alpha_best_SARSA = {}\n",
        "\n",
        "eps_avg_SARSA = {}\n",
        "gamma_avg_SARSA = {}\n",
        "alpha_avg_SARSA = {}"
      ],
      "execution_count": null,
      "outputs": []
    },
    {
      "cell_type": "markdown",
      "metadata": {
        "id": "UR10YUe9BXKn"
      },
      "source": [
        "## 4 Problemă de rezolvat"
      ]
    },
    {
      "cell_type": "markdown",
      "metadata": {
        "id": "i2jAK1qtDooZ"
      },
      "source": [
        "Dorim să implementăm un bot care utilizează Q-Learning sau Sarsa pentru a realiza un task simplu - transportarea unei persoane de la o poziție la alta.\n",
        "\n",
        "De asemenea, dorim să observăm ce se întamplă când modifăm diferiți parametrii ai sistemului:\n",
        " - dăm un reward mai mic/mare pentru mișcări inutile\n",
        " - scoatem anumite informații din stare\n"
      ]
    },
    {
      "cell_type": "markdown",
      "metadata": {
        "id": "jMZ4u0XLKKJ0"
      },
      "source": [
        "### Choose action (5p)"
      ]
    },
    {
      "cell_type": "markdown",
      "metadata": {
        "id": "vlwih38w3z4T"
      },
      "source": [
        "Funcția `choose_action` are ca parametrii:\n",
        "- `Q` - tabela de stări-acțiuni/tabelă de utilităti (aceasta se va modifica în pasul de antrenare),\n",
        "- `state` - starea curentă în care se află jucătorul (în cazul nostru șoferul)\n",
        "- `eps` - probabilitatea cu care se va alege o mutare random, are rolul de a controla tradeoff-ul dintre *Explorare* și *Exploatare* \n",
        "\n",
        "Funcția `choose_action` trebuie să intoarcă o acțiune random cu probabilitate `eps`, altfel acțiunea care maximizează utilitatea din starea curentă."
      ]
    },
    {
      "cell_type": "code",
      "metadata": {
        "id": "vmImyaTvKKo-"
      },
      "source": [
        "def choose_action(Q: np.array, state: int, eps: float = 0.0) -> int:\n",
        "    # TODO: Select an action\n",
        "    action = 0\n",
        "    chance = random.random()\n",
        "    if chance < eps:\n",
        "      action = env.action_space.sample()\n",
        "    else:\n",
        "      action = np.argmax(Q[state])\n",
        "\n",
        "    return action"
      ],
      "execution_count": null,
      "outputs": []
    },
    {
      "cell_type": "markdown",
      "metadata": {
        "id": "uvilu_zqD4LI"
      },
      "source": [
        "### 4.1 Q-Learning (25p)"
      ]
    },
    {
      "cell_type": "markdown",
      "metadata": {
        "id": "uzpZ49jb9K2b"
      },
      "source": [
        "Implementați algoritmul Q-Learning.\n",
        "\n",
        "Formula de update pentru `Q` este:\n",
        "$$\n",
        "  Q[s_t, a] = Q[s_t, a] + \\alpha(R + \\gamma \\max_{a}Q[s_{t+1}, a] - Q[s_t, a])\n",
        "$$\n",
        "\n",
        "Unde:\n",
        "- `s_t` - starea la momentul `t`\n",
        "- `a` - acțiunea aleasă la momentul `t`\n",
        "- $\\alpha$, $\\gamma$ - parametru setat înainte de rulare\n",
        "- `s_{t+1}` - starea la momentul `t+1`, după ce s-a efectua acțiunea `a`"
      ]
    },
    {
      "cell_type": "markdown",
      "metadata": {
        "id": "vuQAPbb4EvCC"
      },
      "source": [
        "#### Train"
      ]
    },
    {
      "cell_type": "code",
      "metadata": {
        "id": "HfoLA8WSE26f",
        "colab": {
          "base_uri": "https://localhost:8080/"
        },
        "outputId": "be5e5e1f-7e18-4404-9d6e-91c046f35676"
      },
      "source": [
        "REWARDS = []\n",
        "eps = EPSILON\n",
        "\n",
        "# Table used to keep the utilities for state-action\n",
        "Q = np.zeros((env.observation_space.n, env.action_space.n))\n",
        "\n",
        "env.seed(42)\n",
        "\n",
        "\n",
        "for i in range(1, NR_EPISODES + 1):\n",
        "    state = env.reset()\n",
        "    has_ended = False\n",
        "    total_reward = 0\n",
        "\n",
        "    while not has_ended:\n",
        "        # TODO: Get the action\n",
        "        action = choose_action(Q, state, eps)\n",
        "        # Do the action\n",
        "        next_state, reward, has_ended, _ = env.step(action)\n",
        "\n",
        "        # Cumulate the reward for plotting\n",
        "        total_reward += reward\n",
        "\n",
        "        # TODO: Update the Q(state, action) with the new value\n",
        "        Q[state][action] += ALPHA * (reward + GAMMA * np.max(Q[next_state]) - Q[state][action])\n",
        "        # TODO: Go to the new state\n",
        "        state = next_state\n",
        "    if i % LOG_INTERVAL == 0:\n",
        "        REWARDS.append(total_reward)\n",
        "        #print(f\"Episode: {i}\")\n",
        "\n",
        "    # TODO (BONUS): Decay eps for every DECAY_EPS_EPISODES\n",
        "    # Use DECAY_EPS\n",
        "\n",
        "# Save the results for plotting\n",
        "Q_1 = Q\n",
        "print(\"Training Q-Learning finished.\\n\")"
      ],
      "execution_count": null,
      "outputs": [
        {
          "output_type": "stream",
          "text": [
            "Training Q-Learning finished.\n",
            "\n"
          ],
          "name": "stdout"
        }
      ]
    },
    {
      "cell_type": "markdown",
      "metadata": {
        "id": "r4RXNkOfdgRj"
      },
      "source": [
        "##### Cod auxiliar pentru a retine rezultatele la schimbarea parametrilor"
      ]
    },
    {
      "cell_type": "code",
      "metadata": {
        "id": "KhIHSRVvaTBN"
      },
      "source": [
        "for GAMMA in range(11):\n",
        "  GAMMA = GAMMA / 10.0\n",
        "  eps = EPSILON\n",
        "  REWARDS = []\n",
        "# Table used to keep the utilities for state-action\n",
        "  Q = np.zeros((env.observation_space.n, env.action_space.n))\n",
        "\n",
        "  env.seed(42)\n",
        "  for i in range(1, NR_EPISODES + 1):\n",
        "    state = env.reset()\n",
        "    has_ended = False\n",
        "    total_reward = 0\n",
        "\n",
        "    while not has_ended:\n",
        "        # TODO: Get the action\n",
        "        action = choose_action(Q, state, eps)\n",
        "        # Do the action\n",
        "        next_state, reward, has_ended, _ = env.step(action)\n",
        "\n",
        "        # Cumulate the reward for plotting\n",
        "        total_reward += reward\n",
        "\n",
        "        # TODO: Update the Q(state, action) with the new value\n",
        "        Q[state][action] += ALPHA * (reward + GAMMA * np.max(Q[next_state]) - Q[state][action])\n",
        "        # TODO: Go to the new state\n",
        "        state = next_state\n",
        "    if i % LOG_INTERVAL == 0:\n",
        "        REWARDS.append(total_reward)\n",
        "        #print(f\"Episode: {i}\")\n",
        "  gamma_best_QL[GAMMA] = max(REWARDS)\n",
        "  gamma_avg_QL[GAMMA] = sum(REWARDS) / len(REWARDS)\n"
      ],
      "execution_count": null,
      "outputs": []
    },
    {
      "cell_type": "markdown",
      "metadata": {
        "id": "Ya53mUXoyMki"
      },
      "source": [
        "#### Let's check the driver"
      ]
    },
    {
      "cell_type": "code",
      "metadata": {
        "id": "as7iNa86yQGL",
        "colab": {
          "base_uri": "https://localhost:8080/"
        },
        "outputId": "93212de9-6cf8-43e4-d0a4-f89adcbb89d5"
      },
      "source": [
        "state = env.reset()\n",
        "has_ended = False\n",
        "while not has_ended:\n",
        "    # TODO: Take always the best action\n",
        "    action = np.argmax(Q_1[state])\n",
        "    state, reward, has_ended, _ = env.step(action)\n",
        "    time.sleep(0.75)\n",
        "    env.render()\n",
        "    print(f\"Reward {reward}\")\n",
        "    clear_output(wait=True)"
      ],
      "execution_count": null,
      "outputs": [
        {
          "output_type": "stream",
          "text": [
            "+---------+\n",
            "|R: | : :G|\n",
            "| : | : : |\n",
            "| : : : : |\n",
            "| | : | : |\n",
            "|Y| : |\u001b[35m\u001b[34;1m\u001b[43mB\u001b[0m\u001b[0m\u001b[0m: |\n",
            "+---------+\n",
            "  (Dropoff)\n",
            "Reward 20\n"
          ],
          "name": "stdout"
        }
      ]
    },
    {
      "cell_type": "markdown",
      "metadata": {
        "id": "IG0vWU5W2y3L"
      },
      "source": [
        "#### And the rewards"
      ]
    },
    {
      "cell_type": "code",
      "metadata": {
        "id": "kfW3gEtA23cY",
        "colab": {
          "base_uri": "https://localhost:8080/",
          "height": 302
        },
        "outputId": "39c085a6-044a-48ba-aad2-a130124296cb"
      },
      "source": [
        "x_points = np.arange(LOG_INTERVAL, NR_EPISODES + 1, LOG_INTERVAL)\n",
        "y_points = REWARDS\n",
        "\n",
        "plt = sns.lineplot(x=x_points, y=y_points)\n",
        "plt.set(xlabel=\"# episodes\", ylabel=\"reward\")"
      ],
      "execution_count": null,
      "outputs": [
        {
          "output_type": "execute_result",
          "data": {
            "text/plain": [
              "[Text(0, 0.5, 'reward'), Text(0.5, 0, '# episodes')]"
            ]
          },
          "metadata": {
            "tags": []
          },
          "execution_count": 9
        },
        {
          "output_type": "display_data",
          "data": {
            "image/png": "[encoded data removed]",
            "text/plain": [
              "<Figure size 432x288 with 1 Axes>"
            ]
          },
          "metadata": {
            "tags": []
          }
        }
      ]
    },
    {
      "cell_type": "markdown",
      "metadata": {
        "id": "twNZkA1ID7HC"
      },
      "source": [
        "### 4.2 SARSA (25p)"
      ]
    },
    {
      "cell_type": "markdown",
      "metadata": {
        "id": "ADPJMq4Z_0f-"
      },
      "source": [
        "Implementați algoritmul SARSA.\n",
        "\n",
        "Formula de update pentru `Q` este:\n",
        "$$\n",
        "  Q[s_t, a] = Q[s_t, a] + \\alpha(R + \\gamma Q[s_{t+1}, a'] - Q[s_t, a])\n",
        "$$\n",
        "\n",
        "Unde:\n",
        "- $s_t$ - starea la momentul `t`\n",
        "- **a** - acțiunea aleasă la momentul `t`\n",
        "- **a'** - acțiunea aleasă la momentul `t+1`, presupunând ca suntem în starea $s_{t+1}$\n",
        "- $\\alpha$, $\\gamma$ - parametru setat înainte de rulare\n",
        "- $s_{t+1}$ - starea la momentul `t+1`, după ce s-a efectua acțiunea `a`"
      ]
    },
    {
      "cell_type": "markdown",
      "metadata": {
        "id": "afpcVDWGJpvE"
      },
      "source": [
        "#### Train"
      ]
    },
    {
      "cell_type": "code",
      "metadata": {
        "id": "ufning8fJrUI"
      },
      "source": [
        "REWARDS = []\n",
        "eps = EPSILON\n",
        "\n",
        "Q = np.zeros((env.observation_space.n, env.action_space.n))\n",
        "\n",
        "env.seed(42)\n",
        "\n",
        "\n",
        "for i in range(1, NR_EPISODES + 1):\n",
        "    state = env.reset()\n",
        "    has_ended = False\n",
        "    total_reward = 0\n",
        "\n",
        "    # TODO: Get the action\n",
        "    action = choose_action(Q, state, eps)\n",
        "\n",
        "    while not has_ended:\n",
        "        # Do the action\n",
        "        next_state, reward, has_ended, _ = env.step(action)\n",
        "\n",
        "        # TODO: Get the next_action from the next_state\n",
        "        next_action = choose_action(Q, next_state, eps)\n",
        "\n",
        "        # Cumulate the reward for plotting\n",
        "        total_reward += reward\n",
        "\n",
        "        # TODO: Update the Q(state, action) with the new value\n",
        "        Q[state][action] += ALPHA * (reward + GAMMA * Q[next_state][next_action] - Q[state][action])\n",
        "\n",
        "        # TODO: Go to the new state\n",
        "        state = next_state\n",
        "\n",
        "        # TODO: Update the action\n",
        "        action = next_action\n",
        "\n",
        "\n",
        "    if i % LOG_INTERVAL == 0:\n",
        "        REWARDS.append(total_reward)\n",
        "        print(f\"Episode: {i}\")\n",
        "\n",
        "    # TODO (BONUS): Decay eps for every DECAY_EPS_EPISODES\n",
        "    # Use DECAY_EPS\n",
        "\n",
        "\n",
        "# Save for plotting\n",
        "\n",
        "Q_2 = Q\n",
        "print(\"Training SARSA finished.\\n\")"
      ],
      "execution_count": null,
      "outputs": []
    },
    {
      "cell_type": "markdown",
      "metadata": {
        "id": "n5PFllQkd2sY"
      },
      "source": [
        "##### Cod auxiliar pentru a retine rezultatele la schimbarea parametrilor"
      ]
    },
    {
      "cell_type": "code",
      "metadata": {
        "id": "dwPBFJoad1fT"
      },
      "source": [
        "for GAMMA in range(11):\n",
        "  GAMMA = GAMMA / 10.0\n",
        "  ALPHA = 0.2\n",
        "  REWARDS = []\n",
        "  eps = 0.2\n",
        "\n",
        "  Q = np.zeros((env.observation_space.n, env.action_space.n))\n",
        "  env.seed(42)\n",
        "\n",
        "  for i in range(1, NR_EPISODES + 1):\n",
        "    state = env.reset()\n",
        "    has_ended = False\n",
        "    total_reward = 0\n",
        "    action = choose_action(Q, state, eps)\n",
        "    while not has_ended:\n",
        "        next_state, reward, has_ended, _ = env.step(action)\n",
        "        next_action = choose_action(Q, next_state, eps)\n",
        "        total_reward += reward\n",
        "        Q[state][action] += ALPHA * (reward + GAMMA * Q[next_state][next_action] - Q[state][action])\n",
        "        state = next_state\n",
        "        action = next_action\n",
        "    if i % LOG_INTERVAL == 0:\n",
        "        REWARDS.append(total_reward)\n",
        "  gamma_best_SARSA[GAMMA] = max(REWARDS)\n",
        "  gamma_avg_SARSA[GAMMA] = sum(REWARDS) / len(REWARDS)"
      ],
      "execution_count": null,
      "outputs": []
    },
    {
      "cell_type": "code",
      "metadata": {
        "colab": {
          "base_uri": "https://localhost:8080/"
        },
        "id": "zpAfbyt9fZ5U",
        "outputId": "c6f67731-e015-4b09-a319-7036cf7e3b94"
      },
      "source": [
        "for i in gamma_best_SARSA:\n",
        "  print(i, \", \", gamma_best_SARSA[i])"
      ],
      "execution_count": null,
      "outputs": [
        {
          "output_type": "stream",
          "text": [
            "0.0 ,  -39\n",
            "0.1 ,  12\n",
            "0.2 ,  10\n",
            "0.3 ,  11\n",
            "0.4 ,  -11\n",
            "0.5 ,  14\n",
            "0.6 ,  9\n",
            "0.7 ,  10\n",
            "0.8 ,  9\n",
            "0.9 ,  13\n",
            "1.0 ,  13\n"
          ],
          "name": "stdout"
        }
      ]
    },
    {
      "cell_type": "markdown",
      "metadata": {
        "id": "ZmxRA5T9LN96"
      },
      "source": [
        "#### Let's check the driver"
      ]
    },
    {
      "cell_type": "code",
      "metadata": {
        "id": "0rOjAgJOLQ8Z",
        "colab": {
          "base_uri": "https://localhost:8080/"
        },
        "outputId": "c45c76ae-9093-4e0e-d5ea-463bfa1fcd4b"
      },
      "source": [
        "state = env.reset()\n",
        "has_ended = False\n",
        "\n",
        "while not has_ended:\n",
        "    # TODO: Take always the best action\n",
        "    action = np.argmax(Q_2[state])\n",
        "    state, reward, has_ended, _ = env.step(action)\n",
        "    time.sleep(0.75)\n",
        "    env.render()\n",
        "    print(f\"Reward {reward}\")\n",
        "    clear_output(wait=True)"
      ],
      "execution_count": null,
      "outputs": [
        {
          "output_type": "stream",
          "text": [
            "+---------+\n",
            "|R: | : :G|\n",
            "| : | : : |\n",
            "| : : : : |\n",
            "| | : | : |\n",
            "|\u001b[35m\u001b[34;1m\u001b[43mY\u001b[0m\u001b[0m\u001b[0m| : |B: |\n",
            "+---------+\n",
            "  (Dropoff)\n",
            "Reward 20\n"
          ],
          "name": "stdout"
        }
      ]
    },
    {
      "cell_type": "markdown",
      "metadata": {
        "id": "Yx3EMZteLTeZ"
      },
      "source": [
        "#### And the rewards"
      ]
    },
    {
      "cell_type": "code",
      "metadata": {
        "id": "tKM9oRJHLU0m",
        "colab": {
          "base_uri": "https://localhost:8080/",
          "height": 302
        },
        "outputId": "e72f5d16-f899-4a52-9320-fa5af71debdf"
      },
      "source": [
        "x_points = np.arange(LOG_INTERVAL, NR_EPISODES + 1, LOG_INTERVAL)\n",
        "y_points = REWARDS\n",
        "\n",
        "plt = sns.lineplot(x=x_points, y=y_points)\n",
        "plt.set(xlabel=\"# episodes\", ylabel=\"reward\")"
      ],
      "execution_count": null,
      "outputs": [
        {
          "output_type": "execute_result",
          "data": {
            "text/plain": [
              "[Text(0, 0.5, 'reward'), Text(0.5, 0, '# episodes')]"
            ]
          },
          "metadata": {
            "tags": []
          },
          "execution_count": 14
        },
        {
          "output_type": "display_data",
          "data": {
            "image/png": "[encoded data removed]",
            "text/plain": [
              "<Figure size 432x288 with 1 Axes>"
            ]
          },
          "metadata": {
            "tags": []
          }
        }
      ]
    },
    {
      "cell_type": "markdown",
      "metadata": {
        "id": "XYMRn_T6D0sp"
      },
      "source": [
        "### 4.3 Results (35p)\n"
      ]
    },
    {
      "cell_type": "markdown",
      "metadata": {
        "id": "lsPDimBcMAzc"
      },
      "source": [
        "\n",
        "Modificați parametrii algoritmilor (cele de la începutul Notebook-ului), faceți grafice pentru fiecare caz și explicați rezultatele obținute.\n",
        "\n",
        "Unii (și nu numai) dintre paramatrii pe care îi puteți modifica:\n",
        "- numărul de episoade de antrenare\n",
        "- `eps` mai mic/mare\n",
        "- valoarea lui $\\gamma$\n",
        "- valoarea lui $\\alpha$\n"
      ]
    },
    {
      "cell_type": "markdown",
      "metadata": {
        "id": "4DSFXJNfTIyH"
      },
      "source": [
        "#### Train episodes\n",
        "- eps = 0.2\n",
        "- $\\gamma$ = 0.9\n",
        "- $\\alpha$ = 0.1"
      ]
    },
    {
      "cell_type": "markdown",
      "metadata": {
        "id": "IeH4OgtRqkQT"
      },
      "source": [
        "##### Explicatii rezultate\n",
        "Pentru numarul de episoade de antrenare am pastrat parametrii initiali. Se observa ca scorul creste pana la un anumit punct, dupa care incepe sa oscileze in functie de noile drumuri pe care le exploreaza."
      ]
    },
    {
      "cell_type": "markdown",
      "metadata": {
        "id": "_qnQqhqTTS_9"
      },
      "source": [
        "##### Q-Learning"
      ]
    },
    {
      "cell_type": "code",
      "metadata": {
        "colab": {
          "base_uri": "https://localhost:8080/",
          "height": 335
        },
        "id": "KfEAa30dTOy9",
        "outputId": "be905df0-4156-4859-beb5-a7aed9dcd6f5"
      },
      "source": [
        "x_points = np.arange(LOG_INTERVAL, NR_EPISODES + 1, LOG_INTERVAL)\n",
        "y_points = REWARDS\n",
        "\n",
        "print(\"Best score - \", max(REWARDS))\n",
        "print(\"Best number of training episodes - \", LOG_INTERVAL * REWARDS.index(max(REWARDS)))\n",
        "\n",
        "plt = sns.lineplot(x=x_points, y=y_points)\n",
        "plt.set(xlabel=\"# episodes\", ylabel=\"reward\")"
      ],
      "execution_count": null,
      "outputs": [
        {
          "output_type": "stream",
          "text": [
            "Best score -  12\n",
            "Best number of training episodes -  600\n"
          ],
          "name": "stdout"
        },
        {
          "output_type": "execute_result",
          "data": {
            "text/plain": [
              "[Text(0, 0.5, 'reward'), Text(0.5, 0, '# episodes')]"
            ]
          },
          "metadata": {
            "tags": []
          },
          "execution_count": 20
        },
        {
          "output_type": "display_data",
          "data": {
            "image/png": "[encoded data removed]",
            "text/plain": [
              "<Figure size 432x288 with 1 Axes>"
            ]
          },
          "metadata": {
            "tags": []
          }
        }
      ]
    },
    {
      "cell_type": "markdown",
      "metadata": {
        "id": "hGnZrGZKTWFl"
      },
      "source": [
        "##### Sarsa"
      ]
    },
    {
      "cell_type": "code",
      "metadata": {
        "colab": {
          "base_uri": "https://localhost:8080/",
          "height": 335
        },
        "id": "9UZCp7RFTYXt",
        "outputId": "2ea24b36-5218-4ea7-f6cc-31f22b58d7d9"
      },
      "source": [
        "x_points = np.arange(LOG_INTERVAL, NR_EPISODES + 1, LOG_INTERVAL)\n",
        "y_points = REWARDS\n",
        "\n",
        "print(\"Best score - \", max(REWARDS))\n",
        "print(\"Best number of training episodes - \", LOG_INTERVAL * REWARDS.index(max(REWARDS)))\n",
        "\n",
        "plt = sns.lineplot(x=x_points, y=y_points)\n",
        "plt.set(xlabel=\"# episodes\", ylabel=\"reward\")"
      ],
      "execution_count": null,
      "outputs": [
        {
          "output_type": "stream",
          "text": [
            "Best score -  13\n",
            "Best number of training episodes -  6600\n"
          ],
          "name": "stdout"
        },
        {
          "output_type": "execute_result",
          "data": {
            "text/plain": [
              "[Text(0, 0.5, 'reward'), Text(0.5, 0, '# episodes')]"
            ]
          },
          "metadata": {
            "tags": []
          },
          "execution_count": 23
        },
        {
          "output_type": "display_data",
          "data": {
            "image/png": "[encoded data removed]",
            "text/plain": [
              "<Figure size 432x288 with 1 Axes>"
            ]
          },
          "metadata": {
            "tags": []
          }
        }
      ]
    },
    {
      "cell_type": "markdown",
      "metadata": {
        "id": "lEAAqS9TWLa1"
      },
      "source": [
        "#### Eps"
      ]
    },
    {
      "cell_type": "markdown",
      "metadata": {
        "id": "CrsAQmkAtZlB"
      },
      "source": [
        "##### Explicatii rezultate\n",
        "EPSILON reprezinta probabilitatea cu care vom alege o cale noua, alta decat cea pe care am determinat-o la episodul anterior ca fiind cea mai buna. Pentru a avea rezultate bune, acesta trebuie sa fie mic pentru a ne folosi de rezultatele pasilor anteriori, dar nu prea mic pentru a putea explora si alte posibile drumuri.  \n",
        "\n",
        "\n",
        "Se observa ca, pentru ambii algoritmi, scorul mediu este invers proportional cu valoarea lui EPSILON. Dupa cum era de asteptat, un EPSILON mai mic va avea rezultate mai bune, valoarea de 0.1 fiind optima pentru Q-Learning, iar cele de 0 si 0.2 aducand cele mai bune rezultate algoritmului SARSA.\n",
        "\n",
        "\n"
      ]
    },
    {
      "cell_type": "markdown",
      "metadata": {
        "id": "tfnxqtwUWVUU"
      },
      "source": [
        "##### Q-Learning\n",
        "- $\\gamma$ = 0.9\n",
        "- $\\alpha$ = 0.1"
      ]
    },
    {
      "cell_type": "code",
      "metadata": {
        "colab": {
          "base_uri": "https://localhost:8080/",
          "height": 334
        },
        "id": "ttZpQb50WaWi",
        "outputId": "6bb991d9-9829-4277-b271-719528cb5d53"
      },
      "source": [
        "keys = eps_avg_QL.keys()\n",
        "values = eps_avg_QL.values()\n",
        "print(values)\n",
        "plt2.bar(keys, values, width=0.1)\n",
        "plt2.xlim(-0.1, 1.1)\n",
        "plt2.xticks(np.arange(0, 1.1, step=0.1))\n",
        "plt2.title(\"Average REWARD score for different eps\")\n",
        "plt2.xlabel(\"eps\")\n",
        "plt2.ylabel(\"Reward\")"
      ],
      "execution_count": null,
      "outputs": [
        {
          "output_type": "stream",
          "text": [
            "dict_values([-5.02, -14.18, -30.18, -33.82, -56.86, -77.06, -125.56, -155.64, -336.88, -520.34, -771.66])\n"
          ],
          "name": "stdout"
        },
        {
          "output_type": "execute_result",
          "data": {
            "text/plain": [
              "Text(0, 0.5, 'Reward')"
            ]
          },
          "metadata": {
            "tags": []
          },
          "execution_count": 85
        },
        {
          "output_type": "display_data",
          "data": {
            "image/png": "[encoded data removed]",
            "text/plain": [
              "<Figure size 432x288 with 1 Axes>"
            ]
          },
          "metadata": {
            "tags": []
          }
        }
      ]
    },
    {
      "cell_type": "code",
      "metadata": {
        "colab": {
          "base_uri": "https://localhost:8080/",
          "height": 334
        },
        "id": "_patNLvulwhL",
        "outputId": "488fee4a-55a7-41bb-a2c3-96627d99d78a"
      },
      "source": [
        "keys = eps_best_QL.keys()\n",
        "values = eps_best_QL.values()\n",
        "print(values)\n",
        "plt2.bar(keys, values, width=0.1)\n",
        "plt2.xlim(-0.1, 1.1)\n",
        "plt2.ylim(-40, 20)\n",
        "plt2.xticks(np.arange(0, 1.1, step=0.1))\n",
        "plt2.title(\"Best REWARD score for different eps\")\n",
        "plt2.xlabel(\"eps\")\n",
        "plt2.ylabel(\"Reward\")"
      ],
      "execution_count": null,
      "outputs": [
        {
          "output_type": "stream",
          "text": [
            "dict_values([12, 15, 13, 12, 8, 12, -8, -14, -30, -96, -472])\n"
          ],
          "name": "stdout"
        },
        {
          "output_type": "execute_result",
          "data": {
            "text/plain": [
              "Text(0, 0.5, 'Reward')"
            ]
          },
          "metadata": {
            "tags": []
          },
          "execution_count": 94
        },
        {
          "output_type": "display_data",
          "data": {
            "image/png": "[encoded data removed]",
            "text/plain": [
              "<Figure size 432x288 with 1 Axes>"
            ]
          },
          "metadata": {
            "tags": []
          }
        }
      ]
    },
    {
      "cell_type": "markdown",
      "metadata": {
        "id": "AMgdY8oeWXzM"
      },
      "source": [
        "##### SARSA\n",
        "- $\\gamma$ = 0.9\n",
        "- $\\alpha$ = 0.1"
      ]
    },
    {
      "cell_type": "code",
      "metadata": {
        "colab": {
          "base_uri": "https://localhost:8080/",
          "height": 334
        },
        "id": "dpbWRqOUWay2",
        "outputId": "f7a00c6e-b408-4199-e014-460c919b4148"
      },
      "source": [
        "keys = eps_avg_SARSA.keys()\n",
        "values = eps_avg_SARSA.values()\n",
        "print(values)\n",
        "plt2.bar(keys, values, width=0.1)\n",
        "plt2.xlim(-0.1, 1.1)\n",
        "plt2.xticks(np.arange(0, 1.1, step=0.1))\n",
        "plt2.title(\"Average REWARD score for different eps\")\n",
        "plt2.xlabel(\"eps\")\n",
        "plt2.ylabel(\"Reward\")"
      ],
      "execution_count": null,
      "outputs": [
        {
          "output_type": "stream",
          "text": [
            "dict_values([-9.22, -25.24, -29.58, -81.0, -122.18, -188.84, -214.62, -383.74, -525.92, -621.46, -783.52])\n"
          ],
          "name": "stdout"
        },
        {
          "output_type": "execute_result",
          "data": {
            "text/plain": [
              "Text(0, 0.5, 'Reward')"
            ]
          },
          "metadata": {
            "tags": []
          },
          "execution_count": 87
        },
        {
          "output_type": "display_data",
          "data": {
            "image/png": "[encoded data removed]",
            "text/plain": [
              "<Figure size 432x288 with 1 Axes>"
            ]
          },
          "metadata": {
            "tags": []
          }
        }
      ]
    },
    {
      "cell_type": "code",
      "metadata": {
        "colab": {
          "base_uri": "https://localhost:8080/",
          "height": 334
        },
        "id": "XkU8B1blmFJT",
        "outputId": "e400f129-aec8-48b1-d040-0947d3dfbc83"
      },
      "source": [
        "keys = eps_best_SARSA.keys()\n",
        "values = eps_best_SARSA.values()\n",
        "print(values)\n",
        "plt2.bar(keys, values, width=0.1)\n",
        "plt2.xlim(-0.1, 1.1)\n",
        "plt2.ylim(-40, 20)\n",
        "plt2.xticks(np.arange(0, 1.1, step=0.1))\n",
        "plt2.title(\"Best REWARD score for different eps\")\n",
        "plt2.xlabel(\"eps\")\n",
        "plt2.ylabel(\"Reward\")"
      ],
      "execution_count": null,
      "outputs": [
        {
          "output_type": "stream",
          "text": [
            "dict_values([15, 14, 15, 11, 12, 13, -6, -13, -31, -94, -594])\n"
          ],
          "name": "stdout"
        },
        {
          "output_type": "execute_result",
          "data": {
            "text/plain": [
              "Text(0, 0.5, 'Reward')"
            ]
          },
          "metadata": {
            "tags": []
          },
          "execution_count": 93
        },
        {
          "output_type": "display_data",
          "data": {
            "image/png": "[encoded data removed]",
            "text/plain": [
              "<Figure size 432x288 with 1 Axes>"
            ]
          },
          "metadata": {
            "tags": []
          }
        }
      ]
    },
    {
      "cell_type": "markdown",
      "metadata": {
        "id": "xNXDmty6mZIS"
      },
      "source": [
        "#### ALPHA"
      ]
    },
    {
      "cell_type": "markdown",
      "metadata": {
        "id": "Sd7VUnPYvuJw"
      },
      "source": [
        "##### Explicatii rezultate\n",
        "ALPHA reprezinta rata de invatare a algoritmului. Cu cat acesta este mai mare, cu atat algoritmul considera mai important ultimul episod fata de cele anterioare.\n",
        "\n",
        "Pentru Q-Learning, desi cel mai bun scor se gaseste la valorile ALPHA=0.1 si ALPHA=0.8, se observa o diferenta considerabila intre cele doua valori pentru scorul mediu, in favoarea valorii ALPHA=0.8.\n",
        "\n",
        "Pentru SARSA, valoarea optima pentru ALPHA este 0.2.\n",
        "\n",
        "Principala diferenta dintre cei 2 algoritmi este faptul ca scorul mediu pentru Q-Learning creste odata cu cresterea valorii ALPHA, pe cand scorul mediu al SARSA scade. "
      ]
    },
    {
      "cell_type": "markdown",
      "metadata": {
        "id": "gX30pQNmmcEa"
      },
      "source": [
        "##### Q-Learning\n",
        "- $\\gamma$ = 0.9\n",
        "- eps = 0.1"
      ]
    },
    {
      "cell_type": "code",
      "metadata": {
        "colab": {
          "base_uri": "https://localhost:8080/",
          "height": 334
        },
        "id": "AMQGTXOpmxPT",
        "outputId": "2bbc89ef-3209-47b8-c3e6-df0cd5c5bdc8"
      },
      "source": [
        "keys = alpha_avg_QL.keys()\n",
        "values = alpha_avg_QL.values()\n",
        "print(values)\n",
        "plt2.bar(keys, values, width=0.1)\n",
        "plt2.xlim(-0.1, 1.1)\n",
        "plt2.ylim(-22, 5)\n",
        "plt2.xticks(np.arange(0, 1.1, step=0.1))\n",
        "plt2.title(\"Average REWARD score for different ALPHA\")\n",
        "plt2.xlabel(\"ALPHA\")\n",
        "plt2.ylabel(\"Reward\")"
      ],
      "execution_count": null,
      "outputs": [
        {
          "output_type": "stream",
          "text": [
            "dict_values([-258.14, -20.62, -11.62, -6.04, -0.82, -4.76, -0.82, 0.42, 2.1, -0.52, 1.84])\n"
          ],
          "name": "stdout"
        },
        {
          "output_type": "execute_result",
          "data": {
            "text/plain": [
              "Text(0, 0.5, 'Reward')"
            ]
          },
          "metadata": {
            "tags": []
          },
          "execution_count": 90
        },
        {
          "output_type": "display_data",
          "data": {
            "image/png": "[encoded data removed]",
            "text/plain": [
              "<Figure size 432x288 with 1 Axes>"
            ]
          },
          "metadata": {
            "tags": []
          }
        }
      ]
    },
    {
      "cell_type": "code",
      "metadata": {
        "colab": {
          "base_uri": "https://localhost:8080/",
          "height": 334
        },
        "id": "nc7Sl5cRmx8y",
        "outputId": "1c934a14-6e1c-4322-da44-35a426a977e9"
      },
      "source": [
        "keys = alpha_best_QL.keys()\n",
        "values = alpha_best_QL.values()\n",
        "print(values)\n",
        "plt2.bar(keys, values, width=0.1)\n",
        "plt2.xlim(-0.1, 1.1)\n",
        "plt2.ylim(-5, 20)\n",
        "plt2.xticks(np.arange(0, 1.1, step=0.1))\n",
        "plt2.title(\"Best REWARD score for different ALPHA\")\n",
        "plt2.xlabel(\"ALPHA\")\n",
        "plt2.ylabel(\"Reward\")"
      ],
      "execution_count": null,
      "outputs": [
        {
          "output_type": "stream",
          "text": [
            "dict_values([-218, 15, 14, 14, 14, 11, 14, 14, 15, 13, 13])\n"
          ],
          "name": "stdout"
        },
        {
          "output_type": "execute_result",
          "data": {
            "text/plain": [
              "Text(0, 0.5, 'Reward')"
            ]
          },
          "metadata": {
            "tags": []
          },
          "execution_count": 92
        },
        {
          "output_type": "display_data",
          "data": {
            "image/png": "[encoded data removed]",
            "text/plain": [
              "<Figure size 432x288 with 1 Axes>"
            ]
          },
          "metadata": {
            "tags": []
          }
        }
      ]
    },
    {
      "cell_type": "markdown",
      "metadata": {
        "id": "I5HZuDILmfGC"
      },
      "source": [
        "##### SARSA\n",
        "- $\\gamma$ = 0.9\n",
        "- eps = 0.2"
      ]
    },
    {
      "cell_type": "code",
      "metadata": {
        "colab": {
          "base_uri": "https://localhost:8080/",
          "height": 334
        },
        "id": "39S4TRRxmy5S",
        "outputId": "95f188f2-2460-471d-e9cb-ff5f096ccc90"
      },
      "source": [
        "keys = alpha_avg_SARSA.keys()\n",
        "values = alpha_avg_SARSA.values()\n",
        "print(values)\n",
        "plt2.bar(keys, values, width=0.1)\n",
        "plt2.xlim(-0.1, 1.1)\n",
        "plt2.xticks(np.arange(0, 1.1, step=0.1))\n",
        "plt2.title(\"Average REWARD score for different ALPHA\")\n",
        "plt2.xlabel(\"ALPHA\")\n",
        "plt2.ylabel(\"Reward\")"
      ],
      "execution_count": null,
      "outputs": [
        {
          "output_type": "stream",
          "text": [
            "dict_values([-317.9, -45.92, -38.3, -21.52, -41.48, -70.14, -53.64, -72.1, -149.88, -213.46, -267.76])\n"
          ],
          "name": "stdout"
        },
        {
          "output_type": "execute_result",
          "data": {
            "text/plain": [
              "Text(0, 0.5, 'Reward')"
            ]
          },
          "metadata": {
            "tags": []
          },
          "execution_count": 96
        },
        {
          "output_type": "display_data",
          "data": {
            "image/png": "[encoded data removed]",
            "text/plain": [
              "<Figure size 432x288 with 1 Axes>"
            ]
          },
          "metadata": {
            "tags": []
          }
        }
      ]
    },
    {
      "cell_type": "code",
      "metadata": {
        "colab": {
          "base_uri": "https://localhost:8080/",
          "height": 334
        },
        "id": "TYHRDXKWmzMK",
        "outputId": "8bb292e2-3692-40be-ae40-0bceb626a778"
      },
      "source": [
        "keys = alpha_best_SARSA.keys()\n",
        "values = alpha_best_SARSA.values()\n",
        "print(values)\n",
        "plt2.bar(keys, values, width=0.1)\n",
        "plt2.xlim(-0.1, 1.1)\n",
        "plt2.ylim(-5, 20)\n",
        "plt2.xticks(np.arange(0, 1.1, step=0.1))\n",
        "plt2.title(\"Best REWARD score for different ALPHA\")\n",
        "plt2.xlabel(\"ALPHA\")\n",
        "plt2.ylabel(\"Reward\")"
      ],
      "execution_count": null,
      "outputs": [
        {
          "output_type": "stream",
          "text": [
            "dict_values([-236, 12, 15, 10, 11, 5, 12, 13, 12, 9, 3])\n"
          ],
          "name": "stdout"
        },
        {
          "output_type": "execute_result",
          "data": {
            "text/plain": [
              "Text(0, 0.5, 'Reward')"
            ]
          },
          "metadata": {
            "tags": []
          },
          "execution_count": 107
        },
        {
          "output_type": "display_data",
          "data": {
            "image/png": "[encoded data removed]",
            "text/plain": [
              "<Figure size 432x288 with 1 Axes>"
            ]
          },
          "metadata": {
            "tags": []
          }
        }
      ]
    },
    {
      "cell_type": "markdown",
      "metadata": {
        "id": "Rc5WElfVoWXM"
      },
      "source": [
        "#### GAMMA"
      ]
    },
    {
      "cell_type": "markdown",
      "metadata": {
        "id": "GSo4Yt5vzi6J"
      },
      "source": [
        "##### Explicatii rezultate\n",
        "GAMMA reprezinta factorul de atenuare. Acesta determina daca algoritmul prefera reward-uri imediate sau cauta reward-uri mai bune pe distante mai mari.\n",
        "\n",
        "Pentru Q-Learning, valoarea de 0.2 aduce cele mai bune scoruri pe parcursul invatarii, dar valorile [0.7, 0.8, 0.9] reusesc sa ajunga la un scor maxim mai bun.\n",
        "\n",
        "Pentru SARSA, se observa faptul ca rezultatele sunt direct proportionale cu valoarea GAMMA, cu exceptia anomaliei petrecute la valoarea 0.4.\n",
        "\n"
      ]
    },
    {
      "cell_type": "markdown",
      "metadata": {
        "id": "4DXhMwcXoWXv"
      },
      "source": [
        "##### Q-Learning\n",
        "- $\\alpha$ = 0.1\n",
        "- eps = 0.1"
      ]
    },
    {
      "cell_type": "code",
      "metadata": {
        "colab": {
          "base_uri": "https://localhost:8080/",
          "height": 334
        },
        "id": "9dUrLY-qoWXx",
        "outputId": "477c6d25-ae37-48ab-ba01-83051acf738f"
      },
      "source": [
        "keys = gamma_avg_QL.keys()\n",
        "values = gamma_avg_QL.values()\n",
        "print(values)\n",
        "plt2.bar(keys, values, width=0.1)\n",
        "plt2.xlim(-0.1, 1.1)\n",
        "plt2.ylim(-5, 5)\n",
        "plt2.xticks(np.arange(0, 1.1, step=0.1))\n",
        "plt2.title(\"Average REWARD score for different GAMMA\")\n",
        "plt2.xlabel(\"GAMMA\")\n",
        "plt2.ylabel(\"Reward\")"
      ],
      "execution_count": null,
      "outputs": [
        {
          "output_type": "stream",
          "text": [
            "dict_values([-257.06, 1.6, 3.98, 1.58, -0.04, 0.82, 0.88, 0.24, -0.12, 1.2, -1.7])\n"
          ],
          "name": "stdout"
        },
        {
          "output_type": "execute_result",
          "data": {
            "text/plain": [
              "Text(0, 0.5, 'Reward')"
            ]
          },
          "metadata": {
            "tags": []
          },
          "execution_count": 100
        },
        {
          "output_type": "display_data",
          "data": {
            "image/png": "[encoded data removed]",
            "text/plain": [
              "<Figure size 432x288 with 1 Axes>"
            ]
          },
          "metadata": {
            "tags": []
          }
        }
      ]
    },
    {
      "cell_type": "code",
      "metadata": {
        "colab": {
          "base_uri": "https://localhost:8080/",
          "height": 334
        },
        "id": "Pv4252QioWXy",
        "outputId": "53ec8195-a296-46c8-be00-457bae41ff2e"
      },
      "source": [
        "keys = gamma_best_QL.keys()\n",
        "values = gamma_best_QL.values()\n",
        "print(values)\n",
        "plt2.bar(keys, values, width=0.1)\n",
        "plt2.xlim(-0.1, 1.1)\n",
        "plt2.ylim(-5, 20)\n",
        "plt2.xticks(np.arange(0, 1.1, step=0.1))\n",
        "plt2.title(\"Best REWARD score for different GAMMA\")\n",
        "plt2.xlabel(\"GAMMA\")\n",
        "plt2.ylabel(\"Reward\")"
      ],
      "execution_count": null,
      "outputs": [
        {
          "output_type": "stream",
          "text": [
            "dict_values([-218, 13, 14, 14, 15, 14, 13, 15, 15, 15, 13])\n"
          ],
          "name": "stdout"
        },
        {
          "output_type": "execute_result",
          "data": {
            "text/plain": [
              "Text(0, 0.5, 'Reward')"
            ]
          },
          "metadata": {
            "tags": []
          },
          "execution_count": 102
        },
        {
          "output_type": "display_data",
          "data": {
            "image/png": "[encoded data removed]",
            "text/plain": [
              "<Figure size 432x288 with 1 Axes>"
            ]
          },
          "metadata": {
            "tags": []
          }
        }
      ]
    },
    {
      "cell_type": "markdown",
      "metadata": {
        "id": "_hFr6zpzoWXy"
      },
      "source": [
        "##### SARSA\n",
        "- $\\alpha$ = 0.2\n",
        "- eps = 0.2"
      ]
    },
    {
      "cell_type": "code",
      "metadata": {
        "colab": {
          "base_uri": "https://localhost:8080/",
          "height": 334
        },
        "id": "a9WeDibkoWXz",
        "outputId": "64353904-bb38-4135-e948-897e34f1da6f"
      },
      "source": [
        "keys = gamma_avg_SARSA.keys()\n",
        "values = gamma_avg_SARSA.values()\n",
        "print(values)\n",
        "plt2.bar(keys, values, width=0.1)\n",
        "plt2.xlim(-0.1, 1.1)\n",
        "plt2.xticks(np.arange(0, 1.1, step=0.1))\n",
        "plt2.title(\"Average REWARD score for different GAMMA\")\n",
        "plt2.xlabel(\"GAMMA\")\n",
        "plt2.ylabel(\"Reward\")"
      ],
      "execution_count": null,
      "outputs": [
        {
          "output_type": "stream",
          "text": [
            "dict_values([-308.38, -237.72, -258.96, -234.1, -229.24, -217.88, -197.06, -116.88, -59.84, -37.26, -23.7])\n"
          ],
          "name": "stdout"
        },
        {
          "output_type": "execute_result",
          "data": {
            "text/plain": [
              "Text(0, 0.5, 'Reward')"
            ]
          },
          "metadata": {
            "tags": []
          },
          "execution_count": 103
        },
        {
          "output_type": "display_data",
          "data": {
            "image/png": "[encoded data removed]",
            "text/plain": [
              "<Figure size 432x288 with 1 Axes>"
            ]
          },
          "metadata": {
            "tags": []
          }
        }
      ]
    },
    {
      "cell_type": "code",
      "metadata": {
        "colab": {
          "base_uri": "https://localhost:8080/",
          "height": 334
        },
        "id": "a95raYCNoWXz",
        "outputId": "39db61db-f333-4a25-a645-60fbf7382bde"
      },
      "source": [
        "keys = gamma_best_SARSA.keys()\n",
        "values = gamma_best_SARSA.values()\n",
        "print(values)\n",
        "plt2.bar(keys, values, width=0.1)\n",
        "plt2.xlim(-0.1, 1.1)\n",
        "plt2.ylim(-40, 20)\n",
        "plt2.xticks(np.arange(0, 1.1, step=0.1))\n",
        "plt2.title(\"Best REWARD score for different GAMMA\")\n",
        "plt2.xlabel(\"GAMMA\")\n",
        "plt2.ylabel(\"Reward\")"
      ],
      "execution_count": null,
      "outputs": [
        {
          "output_type": "stream",
          "text": [
            "dict_values([-39, 12, 10, 11, -11, 14, 9, 10, 9, 13, 13])\n"
          ],
          "name": "stdout"
        },
        {
          "output_type": "execute_result",
          "data": {
            "text/plain": [
              "Text(0, 0.5, 'Reward')"
            ]
          },
          "metadata": {
            "tags": []
          },
          "execution_count": 106
        },
        {
          "output_type": "display_data",
          "data": {
            "image/png": "[encoded data removed]",
            "text/plain": [
              "<Figure size 432x288 with 1 Axes>"
            ]
          },
          "metadata": {
            "tags": []
          }
        }
      ]
    },
    {
      "cell_type": "markdown",
      "metadata": {
        "id": "iPC3_zM6L6xb"
      },
      "source": [
        "#### 4.4 And something more... (10p)"
      ]
    },
    {
      "cell_type": "markdown",
      "metadata": {
        "id": "GLV1t6tmL-qc"
      },
      "source": [
        "##### A simple move (5p)"
      ]
    },
    {
      "cell_type": "markdown",
      "metadata": {
        "id": "4hpaILBTPHGR"
      },
      "source": [
        "\n",
        "Dorim să vedem importanța reward-ului și a stării.\n",
        "\n",
        "Modificați celula de antrenare pentru una dintre metode astfel încât reward-ul pentru o **mutare simplă** să fie 0, (acum este -1). Refaceți graficul metodei alese și trageți concluziile.\n"
      ]
    },
    {
      "cell_type": "markdown",
      "metadata": {
        "id": "Nu_shomA8Std"
      },
      "source": [
        "Se observa faptul ca rezultatele pentru o harta fara penalizari pentru o mutare simpla sunt mult mai slabe si variaza mult mai mult. De asemenea, nu se poate determina daca modelul invata, avand in vedere ca graficul nu pare sa fie in ascensiune odata cu cresterea numarului de episoade."
      ]
    },
    {
      "cell_type": "code",
      "metadata": {
        "colab": {
          "base_uri": "https://localhost:8080/"
        },
        "id": "sVp8r6Mr7DZ3",
        "outputId": "8bd01a9f-f145-4e83-9d74-9a9c0c59a8f5"
      },
      "source": [
        "REWARDS = []\n",
        "eps = EPSILON\n",
        "\n",
        "# Table used to keep the utilities for state-action\n",
        "Q = np.zeros((env.observation_space.n, env.action_space.n))\n",
        "\n",
        "env.seed(42)\n",
        "\n",
        "\n",
        "for i in range(1, NR_EPISODES + 1):\n",
        "    state = env.reset()\n",
        "    has_ended = False\n",
        "    total_reward = 0\n",
        "\n",
        "    while not has_ended:\n",
        "        # TODO: Get the action\n",
        "        action = choose_action(Q, state, eps)\n",
        "        # Do the action\n",
        "        next_state, reward, has_ended, _ = env.step(action)\n",
        "        if reward == -1:\n",
        "          reward = reward + 1\n",
        "        # Cumulate the reward for plotting\n",
        "        total_reward += reward\n",
        "\n",
        "        # TODO: Update the Q(state, action) with the new value\n",
        "        Q[state][action] += ALPHA * (reward + GAMMA * np.max(Q[next_state]) - Q[state][action])\n",
        "        # TODO: Go to the new state\n",
        "        state = next_state\n",
        "    if i % LOG_INTERVAL == 0:\n",
        "        REWARDS.append(total_reward)\n",
        "\n",
        "# Save the results for plotting\n",
        "Q_3 = Q\n",
        "print(\"Training Q-Learning finished.\\n\")"
      ],
      "execution_count": null,
      "outputs": [
        {
          "output_type": "stream",
          "text": [
            "Training Q-Learning finished.\n",
            "\n"
          ],
          "name": "stdout"
        }
      ]
    },
    {
      "cell_type": "code",
      "metadata": {
        "colab": {
          "base_uri": "https://localhost:8080/",
          "height": 302
        },
        "id": "43cnaWuY7Z21",
        "outputId": "515a4f1c-8958-4c4d-bfa4-3d99a07d9792"
      },
      "source": [
        "x_points = np.arange(LOG_INTERVAL, NR_EPISODES + 1, LOG_INTERVAL)\n",
        "y_points = REWARDS\n",
        "\n",
        "plt = sns.lineplot(x=x_points, y=y_points)\n",
        "plt.set(xlabel=\"# episodes\", ylabel=\"reward\")"
      ],
      "execution_count": null,
      "outputs": [
        {
          "output_type": "execute_result",
          "data": {
            "text/plain": [
              "[Text(0, 0.5, 'reward'), Text(0.5, 0, '# episodes')]"
            ]
          },
          "metadata": {
            "tags": []
          },
          "execution_count": 115
        },
        {
          "output_type": "display_data",
          "data": {
            "image/png": "[encoded data removed]",
            "text/plain": [
              "<Figure size 432x288 with 1 Axes>"
            ]
          },
          "metadata": {
            "tags": []
          }
        }
      ]
    },
    {
      "cell_type": "markdown",
      "metadata": {
        "id": "lWnABGc9PLNN"
      },
      "source": [
        "##### A little less space (5p)"
      ]
    },
    {
      "cell_type": "markdown",
      "metadata": {
        "id": "OK4DvqjEO2uz"
      },
      "source": [
        "**Starea** are valori discrete (500 de valori posibile), iar aceasta este encodată folosind metoda d [aici](https://github.com/openai/gym/blob/master/gym/envs/toy_text/taxi.py#L128).\n",
        "\n",
        "Rescrieți codul astfel încât starea să fie encodată folosind:\n",
        "$$\n",
        "(((taxi\\_row * 5) + taxi\\_column) * 5 + pass\\_loc) * 2 + destination\n",
        "$$\n",
        "Antrenați unul dintre algoritmi, faceți graficul și explicați rezultatul.\n",
        "\n",
        "**Atenție!** Trebuie să și modificați cum arată Q (forma matricei).\n",
        "\n",
        "Hint: Decodarea stării este [aici](https://github.com/openai/gym/blob/master/gym/envs/toy_text/taxi.py#L139)\n"
      ]
    },
    {
      "cell_type": "code",
      "metadata": {
        "colab": {
          "base_uri": "https://localhost:8080/"
        },
        "id": "uYgCkBEO-VIt",
        "outputId": "9a93a2ac-f510-453b-fa04-2b6d14652686"
      },
      "source": [
        "def new_encode(taxi_row, taxi_col, pass_loc, dest_idx):\n",
        "  i = taxi_row\n",
        "  i *= 5\n",
        "  i += taxi_col\n",
        "  i *= 5\n",
        "  i += pass_loc\n",
        "  i *= 2\n",
        "  i += dest_idx\n",
        "  return i\n",
        "\n",
        "def new_decode(i):\n",
        "  out = []\n",
        "  out.append(i % 2)\n",
        "  i = i // 2\n",
        "  out.append(i % 5)\n",
        "  i = i // 5\n",
        "  out.append(i % 5)\n",
        "  i = i // 5\n",
        "  out.append(i)\n",
        "  assert 0 <= i < 5\n",
        "  return reversed(out)\n",
        "\n",
        "def convert_state(i):\n",
        "  dec_state = env.decode(i)\n",
        "  dec_i = []\n",
        "  for elem in dec_state:\n",
        "    dec_i.append(elem)\n",
        "  return new_encode(dec_i[0], dec_i[1], dec_i[2], dec_i[3])"
      ],
      "execution_count": null,
      "outputs": [
        {
          "output_type": "stream",
          "text": [
            "202\n"
          ],
          "name": "stdout"
        }
      ]
    },
    {
      "cell_type": "code",
      "metadata": {
        "id": "-qYcTS5FAEv9"
      },
      "source": [
        "def get_legal_actions(state):\n",
        "  \"\"\"\n",
        "   Actions:\n",
        "    There are 6 discrete deterministic actions:\n",
        "    - 0: move south\n",
        "    - 1: move north\n",
        "    - 2: move east\n",
        "    - 3: move west\n",
        "    - 4: pickup passenger\n",
        "    - 5: drop off passenger\n",
        "  \"\"\"\n",
        "  legal_actions = [4, 5] # legal but they could get penalized\n",
        "  dec_state_aux = new_decode(state)\n",
        "  decoded_state = []\n",
        "  for elem in dec_state_aux:\n",
        "    decoded_state.append(elem)\n",
        "  posx = decoded_state[0]\n",
        "  posy = decoded_state[1]\n",
        "  # south\n",
        "  if posy + 1 < 5:\n",
        "    legal_actions.append(0)\n",
        "  # north\n",
        "  if posy - 1 >= 0:\n",
        "    legal_actions.append(1)\n",
        "  # east\n",
        "  if posx + 1 < 5:\n",
        "    legal_actions.append(2)\n",
        "  # west\n",
        "  if posx - 1 >= 0:\n",
        "    legal_actions.append(3)\n",
        "  return legal_actions\n",
        "\n",
        "def choose_action_new(Q: np.array, state: int, eps: float = 0.0) -> int:\n",
        "    # TODO: Select an action\n",
        "    action = 0\n",
        "    chance = random.random()\n",
        "    if chance < eps:\n",
        "      action = random.choice(get_legal_actions(state))\n",
        "    else:\n",
        "      action = np.argmax(Q[state])\n",
        "\n",
        "    return action"
      ],
      "execution_count": null,
      "outputs": []
    },
    {
      "cell_type": "code",
      "metadata": {
        "colab": {
          "base_uri": "https://localhost:8080/",
          "height": 370
        },
        "id": "eGZBWtng9uj2",
        "outputId": "c1233018-8029-4a0c-861e-f014952817cc"
      },
      "source": [
        "REWARDS = []\n",
        "eps = EPSILON\n",
        "num_states = int((env.observation_space.n + 4) / 2) # converting from old formula to the new one\n",
        "\n",
        "# Table used to keep the utilities for state-action\n",
        "Q = np.zeros((num_states, env.action_space.n))\n",
        "\n",
        "env.seed(42)\n",
        "\n",
        "\n",
        "for i in range(1, NR_EPISODES + 1):\n",
        "    state = env.reset()\n",
        "    state = convert_state(state)\n",
        "    has_ended = False\n",
        "    total_reward = 0\n",
        "\n",
        "    while not has_ended:\n",
        "        # TODO: Get the action\n",
        "        action = choose_action_new(Q, state, eps)\n",
        "        # Do the action\n",
        "        next_state, reward, has_ended, _ = env.step(action)\n",
        "        next_state = convert_state(next_state)\n",
        "        # Cumulate the reward for plotting\n",
        "        total_reward += reward\n",
        "\n",
        "        # Update the Q(state, action) with the new value\n",
        "        Q[state][action] += ALPHA * (reward + GAMMA * np.max(Q[next_state]) - Q[state][action])\n",
        "        # Go to the new state\n",
        "        state = next_state\n",
        "    if i % LOG_INTERVAL == 0:\n",
        "        REWARDS.append(total_reward)\n",
        "\n",
        "\n",
        "# Save the results for plotting\n",
        "Q_4 = Q\n",
        "print(\"Training Q-Learning finished.\\n\")"
      ],
      "execution_count": null,
      "outputs": [
        {
          "output_type": "error",
          "ename": "AssertionError",
          "evalue": "ignored",
          "traceback": [
            "\u001b[0;31m---------------------------------------------------------------------------\u001b[0m",
            "\u001b[0;31mAssertionError\u001b[0m                            Traceback (most recent call last)",
            "\u001b[0;32m<ipython-input-138-5cb245018e46>\u001b[0m in \u001b[0;36m<module>\u001b[0;34m()\u001b[0m\n\u001b[1;32m     17\u001b[0m     \u001b[0;32mwhile\u001b[0m \u001b[0;32mnot\u001b[0m \u001b[0mhas_ended\u001b[0m\u001b[0;34m:\u001b[0m\u001b[0;34m\u001b[0m\u001b[0;34m\u001b[0m\u001b[0m\n\u001b[1;32m     18\u001b[0m         \u001b[0;31m# TODO: Get the action\u001b[0m\u001b[0;34m\u001b[0m\u001b[0;34m\u001b[0m\u001b[0;34m\u001b[0m\u001b[0m\n\u001b[0;32m---> 19\u001b[0;31m         \u001b[0maction\u001b[0m \u001b[0;34m=\u001b[0m \u001b[0mchoose_action_new\u001b[0m\u001b[0;34m(\u001b[0m\u001b[0mQ\u001b[0m\u001b[0;34m,\u001b[0m \u001b[0mstate\u001b[0m\u001b[0;34m,\u001b[0m \u001b[0meps\u001b[0m\u001b[0;34m)\u001b[0m\u001b[0;34m\u001b[0m\u001b[0;34m\u001b[0m\u001b[0m\n\u001b[0m\u001b[1;32m     20\u001b[0m         \u001b[0;31m# Do the action\u001b[0m\u001b[0;34m\u001b[0m\u001b[0;34m\u001b[0m\u001b[0;34m\u001b[0m\u001b[0m\n\u001b[1;32m     21\u001b[0m         \u001b[0mnext_state\u001b[0m\u001b[0;34m,\u001b[0m \u001b[0mreward\u001b[0m\u001b[0;34m,\u001b[0m \u001b[0mhas_ended\u001b[0m\u001b[0;34m,\u001b[0m \u001b[0m_\u001b[0m \u001b[0;34m=\u001b[0m \u001b[0menv\u001b[0m\u001b[0;34m.\u001b[0m\u001b[0mstep\u001b[0m\u001b[0;34m(\u001b[0m\u001b[0maction\u001b[0m\u001b[0;34m)\u001b[0m\u001b[0;34m\u001b[0m\u001b[0;34m\u001b[0m\u001b[0m\n",
            "\u001b[0;32m<ipython-input-137-0fc15f714f7c>\u001b[0m in \u001b[0;36mchoose_action_new\u001b[0;34m(Q, state, eps)\u001b[0m\n\u001b[1;32m     36\u001b[0m     \u001b[0mchance\u001b[0m \u001b[0;34m=\u001b[0m \u001b[0mrandom\u001b[0m\u001b[0;34m.\u001b[0m\u001b[0mrandom\u001b[0m\u001b[0;34m(\u001b[0m\u001b[0;34m)\u001b[0m\u001b[0;34m\u001b[0m\u001b[0;34m\u001b[0m\u001b[0m\n\u001b[1;32m     37\u001b[0m     \u001b[0;32mif\u001b[0m \u001b[0mchance\u001b[0m \u001b[0;34m<\u001b[0m \u001b[0meps\u001b[0m\u001b[0;34m:\u001b[0m\u001b[0;34m\u001b[0m\u001b[0;34m\u001b[0m\u001b[0m\n\u001b[0;32m---> 38\u001b[0;31m       \u001b[0maction\u001b[0m \u001b[0;34m=\u001b[0m \u001b[0mrandom\u001b[0m\u001b[0;34m.\u001b[0m\u001b[0mchoice\u001b[0m\u001b[0;34m(\u001b[0m\u001b[0mget_legal_actions\u001b[0m\u001b[0;34m(\u001b[0m\u001b[0mstate\u001b[0m\u001b[0;34m)\u001b[0m\u001b[0;34m)\u001b[0m\u001b[0;34m\u001b[0m\u001b[0;34m\u001b[0m\u001b[0m\n\u001b[0m\u001b[1;32m     39\u001b[0m     \u001b[0;32melse\u001b[0m\u001b[0;34m:\u001b[0m\u001b[0;34m\u001b[0m\u001b[0;34m\u001b[0m\u001b[0m\n\u001b[1;32m     40\u001b[0m       \u001b[0maction\u001b[0m \u001b[0;34m=\u001b[0m \u001b[0mnp\u001b[0m\u001b[0;34m.\u001b[0m\u001b[0margmax\u001b[0m\u001b[0;34m(\u001b[0m\u001b[0mQ\u001b[0m\u001b[0;34m[\u001b[0m\u001b[0mstate\u001b[0m\u001b[0;34m]\u001b[0m\u001b[0;34m)\u001b[0m\u001b[0;34m\u001b[0m\u001b[0;34m\u001b[0m\u001b[0m\n",
            "\u001b[0;32m<ipython-input-137-0fc15f714f7c>\u001b[0m in \u001b[0;36mget_legal_actions\u001b[0;34m(state)\u001b[0m\n\u001b[1;32m     11\u001b[0m   \"\"\"\n\u001b[1;32m     12\u001b[0m   \u001b[0mlegal_actions\u001b[0m \u001b[0;34m=\u001b[0m \u001b[0;34m[\u001b[0m\u001b[0;36m4\u001b[0m\u001b[0;34m,\u001b[0m \u001b[0;36m5\u001b[0m\u001b[0;34m]\u001b[0m \u001b[0;31m# legal but they could get penalized\u001b[0m\u001b[0;34m\u001b[0m\u001b[0;34m\u001b[0m\u001b[0m\n\u001b[0;32m---> 13\u001b[0;31m   \u001b[0mdec_state_aux\u001b[0m \u001b[0;34m=\u001b[0m \u001b[0mnew_decode\u001b[0m\u001b[0;34m(\u001b[0m\u001b[0mstate\u001b[0m\u001b[0;34m)\u001b[0m\u001b[0;34m\u001b[0m\u001b[0;34m\u001b[0m\u001b[0m\n\u001b[0m\u001b[1;32m     14\u001b[0m   \u001b[0mdecoded_state\u001b[0m \u001b[0;34m=\u001b[0m \u001b[0;34m[\u001b[0m\u001b[0;34m]\u001b[0m\u001b[0;34m\u001b[0m\u001b[0;34m\u001b[0m\u001b[0m\n\u001b[1;32m     15\u001b[0m   \u001b[0;32mfor\u001b[0m \u001b[0melem\u001b[0m \u001b[0;32min\u001b[0m \u001b[0mdec_state_aux\u001b[0m\u001b[0;34m:\u001b[0m\u001b[0;34m\u001b[0m\u001b[0;34m\u001b[0m\u001b[0m\n",
            "\u001b[0;32m<ipython-input-135-df8e3e8161c4>\u001b[0m in \u001b[0;36mnew_decode\u001b[0;34m(i)\u001b[0m\n\u001b[1;32m     18\u001b[0m   \u001b[0mi\u001b[0m \u001b[0;34m=\u001b[0m \u001b[0mi\u001b[0m \u001b[0;34m//\u001b[0m \u001b[0;36m5\u001b[0m\u001b[0;34m\u001b[0m\u001b[0;34m\u001b[0m\u001b[0m\n\u001b[1;32m     19\u001b[0m   \u001b[0mout\u001b[0m\u001b[0;34m.\u001b[0m\u001b[0mappend\u001b[0m\u001b[0;34m(\u001b[0m\u001b[0mi\u001b[0m\u001b[0;34m)\u001b[0m\u001b[0;34m\u001b[0m\u001b[0;34m\u001b[0m\u001b[0m\n\u001b[0;32m---> 20\u001b[0;31m   \u001b[0;32massert\u001b[0m \u001b[0;36m0\u001b[0m \u001b[0;34m<=\u001b[0m \u001b[0mi\u001b[0m \u001b[0;34m<\u001b[0m \u001b[0;36m5\u001b[0m\u001b[0;34m\u001b[0m\u001b[0;34m\u001b[0m\u001b[0m\n\u001b[0m\u001b[1;32m     21\u001b[0m   \u001b[0;32mreturn\u001b[0m \u001b[0mreversed\u001b[0m\u001b[0;34m(\u001b[0m\u001b[0mout\u001b[0m\u001b[0;34m)\u001b[0m\u001b[0;34m\u001b[0m\u001b[0;34m\u001b[0m\u001b[0m\n\u001b[1;32m     22\u001b[0m \u001b[0;34m\u001b[0m\u001b[0m\n",
            "\u001b[0;31mAssertionError\u001b[0m: "
          ]
        }
      ]
    },
    {
      "cell_type": "markdown",
      "metadata": {
        "id": "B9FzqwzeGAi3"
      },
      "source": [
        "## 5 BONUS: Some decay on the way (10p)"
      ]
    },
    {
      "cell_type": "markdown",
      "metadata": {
        "id": "zEeZGRXBGSLn"
      },
      "source": [
        "Analizați ce se întâmplă daca scadeți treptat `eps`, pe măsura antrenării. \n",
        "\n",
        "Intuitiv, dorim ca la începutul antrenării agentul să **exploreze** cât mai mult posibil și să atingă un număr mare de stări (în exemplul nostru cu taxiul, nu avem așa multe stări, dar sunt jocuri în care spațiul stărilor poate fi mai mare).\n",
        "\n",
        "De asemenea, pe măsură ce continuăm antrenarea, dorim ca taximetristul să înceapă să **exploateze** mai mult stările cunoscute cu o utilitate mare.\n",
        "\n"
      ]
    },
    {
      "cell_type": "markdown",
      "metadata": {
        "id": "ypYpYeEyO0iy"
      },
      "source": [
        "### Concluzie"
      ]
    },
    {
      "cell_type": "markdown",
      "metadata": {
        "id": "QfYyXB7LO3ca"
      },
      "source": [
        "Se observa ca scaderea treptata a lui eps aduce mai multa consistenta odata cu cresterea numarului de episoade."
      ]
    },
    {
      "cell_type": "markdown",
      "metadata": {
        "id": "sDAjs7v6N-g7"
      },
      "source": [
        "### Q-Learning"
      ]
    },
    {
      "cell_type": "code",
      "metadata": {
        "colab": {
          "base_uri": "https://localhost:8080/"
        },
        "id": "iHAlZmpYM7Wz",
        "outputId": "3b49fb18-0a81-4222-de44-40eaafe328bf"
      },
      "source": [
        "REWARDS = []\n",
        "eps = EPSILON\n",
        "\n",
        "# Table used to keep the utilities for state-action\n",
        "Q = np.zeros((env.observation_space.n, env.action_space.n))\n",
        "\n",
        "env.seed(42)\n",
        "\n",
        "\n",
        "for i in range(1, NR_EPISODES + 1):\n",
        "    state = env.reset()\n",
        "    has_ended = False\n",
        "    total_reward = 0\n",
        "\n",
        "    while not has_ended:\n",
        "        # TODO: Get the action\n",
        "        action = choose_action(Q, state, eps)\n",
        "        # Do the action\n",
        "        next_state, reward, has_ended, _ = env.step(action)\n",
        "\n",
        "        # Cumulate the reward for plotting\n",
        "        total_reward += reward\n",
        "\n",
        "        # TODO: Update the Q(state, action) with the new value\n",
        "        Q[state][action] += ALPHA * (reward + GAMMA * np.max(Q[next_state]) - Q[state][action])\n",
        "        # TODO: Go to the new state\n",
        "        state = next_state\n",
        "    if i % LOG_INTERVAL == 0:\n",
        "        REWARDS.append(total_reward)\n",
        "        #print(f\"Episode: {i}\")\n",
        "\n",
        "    # TODO (BONUS): Decay eps for every DECAY_EPS_EPISODES\n",
        "    # Use DECAY_EPS\n",
        "    if i % DECAY_EPS_EPISODES == 0:\n",
        "      eps *= DECAY_EPS\n",
        "\n",
        "# Save the results for plotting\n",
        "Q_5 = Q\n",
        "print(\"Training Q-Learning finished.\\n\")"
      ],
      "execution_count": null,
      "outputs": [
        {
          "output_type": "stream",
          "text": [
            "Training Q-Learning finished.\n",
            "\n"
          ],
          "name": "stdout"
        }
      ]
    },
    {
      "cell_type": "code",
      "metadata": {
        "colab": {
          "base_uri": "https://localhost:8080/",
          "height": 318
        },
        "id": "Gt8Z8IczNYpa",
        "outputId": "69bb1c09-ac97-4560-b36a-4ff3957f8dbe"
      },
      "source": [
        "x_points = np.arange(LOG_INTERVAL, NR_EPISODES + 1, LOG_INTERVAL)\n",
        "y_points = REWARDS\n",
        "print(max(REWARDS))\n",
        "\n",
        "plt = sns.lineplot(x=x_points, y=y_points)\n",
        "plt.set(xlabel=\"# episodes\", ylabel=\"reward\")"
      ],
      "execution_count": null,
      "outputs": [
        {
          "output_type": "stream",
          "text": [
            "13\n"
          ],
          "name": "stdout"
        },
        {
          "output_type": "execute_result",
          "data": {
            "text/plain": [
              "[Text(0, 0.5, 'reward'), Text(0.5, 0, '# episodes')]"
            ]
          },
          "metadata": {
            "tags": []
          },
          "execution_count": 157
        },
        {
          "output_type": "display_data",
          "data": {
            "image/png": "[encoded data removed]",
            "text/plain": [
              "<Figure size 432x288 with 1 Axes>"
            ]
          },
          "metadata": {
            "tags": []
          }
        }
      ]
    },
    {
      "cell_type": "markdown",
      "metadata": {
        "id": "25S3K7npN9aD"
      },
      "source": [
        "###SARSA\n"
      ]
    },
    {
      "cell_type": "code",
      "metadata": {
        "colab": {
          "base_uri": "https://localhost:8080/"
        },
        "id": "4OZ53fYaOH76",
        "outputId": "2c10e2bf-fd9e-435e-d730-df6ddba329f1"
      },
      "source": [
        "REWARDS = []\n",
        "eps = EPSILON\n",
        "\n",
        "Q = np.zeros((env.observation_space.n, env.action_space.n))\n",
        "\n",
        "env.seed(42)\n",
        "\n",
        "\n",
        "for i in range(1, NR_EPISODES + 1):\n",
        "    state = env.reset()\n",
        "    has_ended = False\n",
        "    total_reward = 0\n",
        "\n",
        "    # TODO: Get the action\n",
        "    action = choose_action(Q, state, eps)\n",
        "\n",
        "    while not has_ended:\n",
        "        # Do the action\n",
        "        next_state, reward, has_ended, _ = env.step(action)\n",
        "\n",
        "        # TODO: Get the next_action from the next_state\n",
        "        next_action = choose_action(Q, next_state, eps)\n",
        "\n",
        "        # Cumulate the reward for plotting\n",
        "        total_reward += reward\n",
        "\n",
        "        # TODO: Update the Q(state, action) with the new value\n",
        "        Q[state][action] += ALPHA * (reward + GAMMA * Q[next_state][next_action] - Q[state][action])\n",
        "\n",
        "        # TODO: Go to the new state\n",
        "        state = next_state\n",
        "\n",
        "        # TODO: Update the action\n",
        "        action = next_action\n",
        "\n",
        "\n",
        "    if i % LOG_INTERVAL == 0:\n",
        "        REWARDS.append(total_reward)\n",
        "\n",
        "    # TODO (BONUS): Decay eps for every DECAY_EPS_EPISODES\n",
        "    # Use DECAY_EPS\n",
        "    if i % DECAY_EPS_EPISODES:\n",
        "      eps *= DECAY_EPS\n",
        "\n",
        "\n",
        "# Save for plotting\n",
        "\n",
        "Q_6 = Q\n",
        "print(\"Training SARSA finished.\\n\")"
      ],
      "execution_count": null,
      "outputs": [
        {
          "output_type": "stream",
          "text": [
            "Training SARSA finished.\n",
            "\n"
          ],
          "name": "stdout"
        }
      ]
    },
    {
      "cell_type": "code",
      "metadata": {
        "colab": {
          "base_uri": "https://localhost:8080/",
          "height": 318
        },
        "id": "hKD6tq1ZOILS",
        "outputId": "6aa59152-531c-4bfd-f9d4-a71c7440ee61"
      },
      "source": [
        "x_points = np.arange(LOG_INTERVAL, NR_EPISODES + 1, LOG_INTERVAL)\n",
        "y_points = REWARDS\n",
        "print(max(REWARDS))\n",
        "\n",
        "plt = sns.lineplot(x=x_points, y=y_points)\n",
        "plt.set(xlabel=\"# episodes\", ylabel=\"reward\")"
      ],
      "execution_count": null,
      "outputs": [
        {
          "output_type": "stream",
          "text": [
            "14\n"
          ],
          "name": "stdout"
        },
        {
          "output_type": "execute_result",
          "data": {
            "text/plain": [
              "[Text(0, 0.5, 'reward'), Text(0.5, 0, '# episodes')]"
            ]
          },
          "metadata": {
            "tags": []
          },
          "execution_count": 160
        },
        {
          "output_type": "display_data",
          "data": {
            "image/png": "[encoded data removed]",
            "text/plain": [
              "<Figure size 432x288 with 1 Axes>"
            ]
          },
          "metadata": {
            "tags": []
          }
        }
      ]
    }
  ]
}